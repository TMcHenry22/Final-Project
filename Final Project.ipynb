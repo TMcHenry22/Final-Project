{
 "cells": [
  {
   "cell_type": "markdown",
   "id": "e0b0039c",
   "metadata": {},
   "source": [
    "# Final Project\n",
    "You are studying the attached radioactive decay process and want to model the decay and energy resulting from this process.\n",
    "1.) Write a program that properly modesl the decay of 25,000 atoms over suffiecient 'time' to enable all atoms to decay to the final state, and plot the number of atoms of each isotope over tiem (60 points). "
   ]
  },
  {
   "cell_type": "code",
   "execution_count": 1,
   "id": "8e4fa00d",
   "metadata": {},
   "outputs": [
    {
     "data": {
      "image/png": "[encoded data removed]",
      "text/plain": [
       "<Figure size 432x288 with 1 Axes>"
      ]
     },
     "metadata": {
      "needs_background": "light"
     },
     "output_type": "display_data"
    },
    {
     "name": "stdout",
     "output_type": "stream",
     "text": [
      "99520 149487 24 225288\n",
      "474319\n"
     ]
    }
   ],
   "source": [
    "import numpy as np\n",
    "from numpy import arange\n",
    "from pylab import plot,xlabel,ylabel,show\n",
    "import math\n",
    "# Constants\n",
    "N222Rn=25000 #change to 25000 starting atom\n",
    "N218Po=0\n",
    "N214Pb=0\n",
    "N214Bi=0\n",
    "N207Tl=0\n",
    "N207Pb=0\n",
    "\n",
    "h=1  #ONE MINUTE AS THE TIME STEP  simulate the decay of the atoms by dividing time into slices of length  𝛿𝑡=1 min each \n",
    "#used this way on prev. problem and it works\n",
    "pRn = 1 - (2**(-h/(5500.8)))   # Probability of decay in one step using half lifes\n",
    "pPo= 1-(2**(-h/3.1))\n",
    "pPb=1-(2**(-h/26.8))\n",
    "pBi=1-(2**(-h/19.9))\n",
    "pTl=1-(2**(-h/1.3))\n",
    "tmax = 3000000/60  #time in minutes aka 50,000 minutes\n",
    "#tmax=1500000/60\n",
    "#(5.0 times 10^6)\n",
    "# Lists of plot points\n",
    "tpoints = arange(0.0,tmax,h) # make time array\n",
    "Popts = [] # empty array to store # of Po atoms at each time step\n",
    "Pb214pts = [] # empty array to store # of Pb atoms at each time step\n",
    "Bi214pts=[] # empty array to store # of Bi atoms at each time step\n",
    "Tl207pts=[] # empty array to store # of Tl atoms at each time step\n",
    "Rn222pts=[] #starting atoms\n",
    "Pb207pts=[] #ending atoms\n",
    "alpha=4 \n",
    "r=9\n",
    "beta=3\n",
    "z=8\n",
    "totalpha=0\n",
    "totr=0\n",
    "totbeta=0\n",
    "totz=0\n",
    "totenergy=0\n",
    "# Main loop\n",
    "\n",
    "alphaenergy=[]\n",
    "betaenergy=[]\n",
    "renergy=[]\n",
    "zenergy=[]\n",
    "for t in tpoints:    # for time 0-50000 minutes\n",
    "    Popts.append(N218Po) # append starting # of Tl atoms\n",
    "    Pb214pts.append(N214Pb) # append starting # of Pb atoms\n",
    "    Bi214pts.append(N214Bi)\n",
    "    Tl207pts.append(N207Tl)\n",
    "    Rn222pts.append(N222Rn)\n",
    "    Pb207pts.append(N207Pb)\n",
    "    \n",
    "    decay=0\n",
    "    for m in range(N207Tl):\n",
    "        if np.random.random()< pTl:\n",
    "            decay+=1\n",
    "            totbeta+=beta\n",
    "    N207Tl-=decay\n",
    "    N207Pb+=decay\n",
    "    \n",
    "    decay=0\n",
    "    decayTl=0\n",
    "    decayPb=0\n",
    "    for l in range(N214Bi):\n",
    "        if np.random.random() < pBi:\n",
    "            decay+=1\n",
    "            if np.random.random()<=0.997:\n",
    "                decayTl+=1\n",
    "                totalpha+=alpha\n",
    "            else:\n",
    "                decayPb+=1\n",
    "                totr+=r\n",
    "    N214Bi-=decay\n",
    "    N207Tl+=decayTl\n",
    "    N207Pb+=decayPb\n",
    "    \n",
    "    decay=0 \n",
    "    for k in range(N214Pb):\n",
    "        if np.random.random()< pPb:\n",
    "            decay +=1\n",
    "            totz+=z\n",
    "    N214Pb-=decay\n",
    "    N214Bi+=decay\n",
    "    \n",
    "    decay=0\n",
    "    decayBi=0\n",
    "    decayPb2=0\n",
    "    for j in range(N218Po):\n",
    "        if np.random.random()< pPo:\n",
    "            decay+=1\n",
    "            if np.random.random() <=0.9998:\n",
    "                decayBi+= 1\n",
    "                totbeta+=beta\n",
    "            else:\n",
    "                decayPb2+=1\n",
    "                totalpha+=alpha\n",
    "    N218Po-=decay\n",
    "    N214Pb +=decayPb2\n",
    "    N214Bi +=decayBi    \n",
    "    \n",
    "    # Calculate the number of atoms that decay \n",
    "    decay=0\n",
    "    for i in range(N222Rn): # determine number of atoms that decay\n",
    "        if np.random.random() < pRn:\n",
    "            decay += 1\n",
    "            totr+=r\n",
    "    N222Rn -= decay # subtract number of decayed Parent atoms \n",
    "    N218Po += decay # add number of decayed Daughter atoms \n",
    "    \n",
    "    \n",
    "    #we will be doing a multi step logic\n",
    "    # make sure you have the same amount of atoms that you started with\n",
    "\n",
    "# Make the graph\n",
    "plot(tpoints,Pb214pts, c='b') # plot Pb214 vs. time\n",
    "plot(tpoints,Pb207pts, c='m') # plot Pb vs. time\n",
    "plot(tpoints,Popts, c='k')\n",
    "plot(tpoints,Rn222pts, c='c') #plot Rn vs. time\n",
    "plot(tpoints,Bi214pts, c='r')\n",
    "plot(tpoints, Tl207pts, c='g')\n",
    "xlabel(\"Time (minutes)\")\n",
    "ylabel(\"Number of atoms\")\n",
    "show()\n",
    "alphaenergy.append(totalpha)\n",
    "betaenergy.append(totbeta)\n",
    "renergy.append(totr)\n",
    "zenergy.append(totz)\n",
    "print(totalpha, totbeta, totz, totr)\n",
    "totenergy=totalpha+totbeta+totz+totr\n",
    "print(totenergy)"
   ]
  },
  {
   "cell_type": "markdown",
   "id": "b18f4845",
   "metadata": {},
   "source": [
    "2.) Use your program to calculate the number and energy generated from each of the four types of decay processes (alpha, beta, r, and z) in this radioactive decay chain. \n",
    "\n",
    "This block of code is run 9 more times to complete the next objective for this project. From the above block I get the first run for calculating the energy generated from each of the decay processes."
   ]
  },
  {
   "cell_type": "code",
   "execution_count": 23,
   "id": "9c30e515",
   "metadata": {},
   "outputs": [
    {
     "name": "stdout",
     "output_type": "stream",
     "text": [
      "99516 149460 40 225252\n",
      "474268\n"
     ]
    }
   ],
   "source": [
    "#works! this is for part 3 of final project. (run 9 times)\n",
    "N222Rn=25000 #change to 25000 starting atom\n",
    "N218Po=0\n",
    "N214Pb=0\n",
    "N214Bi=0\n",
    "N207Tl=0\n",
    "N207Pb=0\n",
    "totalpha=0\n",
    "totbeta=0\n",
    "totr=0\n",
    "totz=0\n",
    "for t in tpoints:    # for time 0-50000 minutes\n",
    "    Popts.append(N218Po) # append starting # of Tl atoms\n",
    "    Pb214pts.append(N214Pb) # append starting # of Pb atoms\n",
    "    Bi214pts.append(N214Bi)\n",
    "    Tl207pts.append(N207Tl)\n",
    "    Rn222pts.append(N222Rn)\n",
    "    Pb207pts.append(N207Pb)\n",
    "    \n",
    "    decay=0\n",
    "    for m in range(N207Tl):\n",
    "        if np.random.random()< pTl:\n",
    "            decay+=1\n",
    "            totbeta+=beta\n",
    "    N207Tl-=decay\n",
    "    N207Pb+=decay\n",
    "    \n",
    "    decay=0\n",
    "    decayTl=0\n",
    "    decayPb=0\n",
    "    for l in range(N214Bi):\n",
    "        if np.random.random() < pBi:\n",
    "            decay+=1\n",
    "            if np.random.random()<=0.997:\n",
    "                decayTl+=1\n",
    "                totalpha+=alpha\n",
    "            else:\n",
    "                decayPb+=1\n",
    "                totr+=r\n",
    "    N214Bi-=decay\n",
    "    N207Tl+=decayTl\n",
    "    N207Pb+=decayPb\n",
    "    \n",
    "    decay=0 \n",
    "    for k in range(N214Pb):\n",
    "        if np.random.random()< pPb:\n",
    "            decay +=1\n",
    "            totz+=z\n",
    "    N214Pb-=decay\n",
    "    N214Bi+=decay\n",
    "    \n",
    "    decay=0\n",
    "    decayBi=0\n",
    "    decayPb2=0\n",
    "    for j in range(N218Po):\n",
    "        if np.random.random()< pPo:\n",
    "            decay+=1\n",
    "            if np.random.random() <=0.9998:\n",
    "                decayBi+= 1\n",
    "                totbeta+=beta\n",
    "            else:\n",
    "                decayPb2+=1\n",
    "                totalpha+=alpha\n",
    "    N218Po-=decay\n",
    "    N214Pb +=decayPb2\n",
    "    N214Bi +=decayBi    \n",
    "    \n",
    "    # Calculate the number of atoms that decay \n",
    "    decay=0\n",
    "    for i in range(N222Rn): # determine number of atoms that decay\n",
    "        if np.random.random() < pRn:\n",
    "            decay += 1\n",
    "            totr+=r\n",
    "    N222Rn -= decay # subtract number of decayed Parent atoms \n",
    "    N218Po += decay # add number of decayed Daughter atoms \n",
    "    \n",
    "    \n",
    "    #we will be doing a multi step logic\n",
    "    # make sure you have the same amount of atoms that you started with\n",
    "\n",
    "alphaenergy.append(totalpha)\n",
    "betaenergy.append(totbeta)\n",
    "renergy.append(totr)\n",
    "zenergy.append(totz)\n",
    "print(totalpha, totbeta, totz, totr)\n",
    "totenergy=totalpha+totbeta+totz+totr\n",
    "print(totenergy)"
   ]
  },
  {
   "cell_type": "markdown",
   "id": "d7c7d6a5",
   "metadata": {},
   "source": [
    "3.)What is the average and standard deviation of the total and individual decay energies produced with this radioactive decay chain (minimum 10 runs)? \n",
    "\n",
    "From the above blocks of code we have appended all the total radioactive decays for each of the 10 runs. Below is printed the list for all of the particle energies."
   ]
  },
  {
   "cell_type": "code",
   "execution_count": 24,
   "id": "14da7590",
   "metadata": {},
   "outputs": [
    {
     "name": "stdout",
     "output_type": "stream",
     "text": [
      "[99520, 99632, 99604, 99472, 99540, 99496, 99540, 99480, 99580, 99516]\n",
      "[149487, 149568, 149586, 149403, 149505, 149421, 149502, 149457, 149529, 149460]\n",
      "[225288, 225243, 225360, 225252, 225225, 225243, 225432, 225252, 225234, 225252]\n",
      "[24, 64, 32, 48, 16, 56, 56, 0, 40, 40]\n"
     ]
    }
   ],
   "source": [
    "print(alphaenergy)\n",
    "print(betaenergy)\n",
    "print(renergy)\n",
    "print(zenergy)"
   ]
  },
  {
   "cell_type": "markdown",
   "id": "8e48d33c",
   "metadata": {},
   "source": [
    "Below we start calculating the average and standard deviation for each of the energies"
   ]
  },
  {
   "cell_type": "code",
   "execution_count": 25,
   "id": "271b2163",
   "metadata": {},
   "outputs": [
    {
     "name": "stdout",
     "output_type": "stream",
     "text": [
      "Average of alpha energy 99538.0 MeV\n",
      "The average of alpha energy is  99538.0 Mev and the standard deviation of alpha energy is  52.97378806751715\n",
      "995380\n"
     ]
    }
   ],
   "source": [
    "# use the list of alpha, beta, r, and z energy to calculate the total and individual energies average and standard deviations\n",
    "\n",
    "asum=0\n",
    "sadevarr=[]\n",
    "sadevseries=0\n",
    "s=0\n",
    "for w in range(0, len(alphaenergy)):\n",
    "    asum+=alphaenergy[w]\n",
    "avgalpha=asum/len(alphaenergy)\n",
    "print(\"Average of alpha energy\", avgalpha, \"MeV\")\n",
    "for num in range(0, len(alphaenergy)):\n",
    "    sadevseries=(alphaenergy[num]-avgalpha)**2\n",
    "    sadevarr.append(sadevseries)\n",
    "    s+=((1/(len(alphaenergy)-1))*(sadevarr[num]))\n",
    "sdev=math.sqrt(s)\n",
    "print(\"The average of alpha energy is \", avgalpha,\"Mev and the standard deviation of alpha energy is \", sdev)\n",
    "#This is correct!\n",
    "print(asum)\n"
   ]
  },
  {
   "cell_type": "code",
   "execution_count": 26,
   "id": "72f07d6e",
   "metadata": {},
   "outputs": [
    {
     "name": "stdout",
     "output_type": "stream",
     "text": [
      "Average of beta energy 149491.8 MeV\n",
      "The average of beta energy is  149491.8 Mev and the standard deviation of beta energy is  59.147273817142235\n"
     ]
    }
   ],
   "source": [
    "bsum=0\n",
    "sbdevarr=[]\n",
    "sbdevseries=0\n",
    "s=0\n",
    "for x in range(0, len(betaenergy)):\n",
    "    bsum+=betaenergy[x]\n",
    "avgbeta=bsum/(len(betaenergy))\n",
    "print(\"Average of beta energy\", avgbeta, \"MeV\")\n",
    "for n in range(0, len(betaenergy)):\n",
    "    sbdevseries=(betaenergy[n]-avgbeta)**2\n",
    "    sbdevarr.append(sbdevseries)\n",
    "    s+=((1/(len(betaenergy)-1))*(sbdevarr[n]))\n",
    "sbdev=math.sqrt(s)\n",
    "print(\"The average of beta energy is \", avgbeta,\"Mev and the standard deviation of beta energy is \", sbdev)"
   ]
  },
  {
   "cell_type": "code",
   "execution_count": 27,
   "id": "35d90656",
   "metadata": {},
   "outputs": [
    {
     "name": "stdout",
     "output_type": "stream",
     "text": [
      "The average of r energy is  225278.1 Mev and the standard deviation of r energy is  66.46878966853542\n"
     ]
    }
   ],
   "source": [
    "\n",
    "rsum=0\n",
    "sdevarr=[]\n",
    "sdevseries=0\n",
    "s=0\n",
    "end=len(renergy)\n",
    "for y in range(0, end):\n",
    "    rsum+=renergy[y] \n",
    "avgr=rsum/len(renergy)\n",
    "\n",
    "for num in range(0, end):\n",
    "    sdevseries=(renergy[num]-avgr)**2\n",
    "    sdevarr.append(sdevseries)\n",
    "    s+=((1/(end-1))*(sdevarr[num]))\n",
    "srdev=math.sqrt(s)\n",
    "print(\"The average of r energy is \", avgr,\"Mev and the standard deviation of r energy is \", srdev)"
   ]
  },
  {
   "cell_type": "code",
   "execution_count": 28,
   "id": "dc9227f0",
   "metadata": {},
   "outputs": [
    {
     "name": "stdout",
     "output_type": "stream",
     "text": [
      "The average of z energy is  37.6 Mev and the standard deviation of z energy is  19.973315531812272\n"
     ]
    }
   ],
   "source": [
    "zsum=0\n",
    "szdevarr=[]\n",
    "szdevseries=0\n",
    "s=0\n",
    "for z in range(0,len(zenergy)):\n",
    "    zsum+=zenergy[z]\n",
    "avgz=zsum/len(zenergy)\n",
    "#print(\"Average of z energy\", avgz, \"MeV\")\n",
    "for n in range(0, len(zenergy)):\n",
    "    szdevseries=(zenergy[n]-avgz)**2\n",
    "    szdevarr.append(szdevseries)\n",
    "    s+=((1/(len(zenergy)-1))*(szdevarr[n]))\n",
    "szdev=math.sqrt(s)\n",
    "print(\"The average of z energy is \", avgz,\"Mev and the standard deviation of z energy is \", szdev)\n",
    "#correct dev!"
   ]
  },
  {
   "cell_type": "markdown",
   "id": "9aa0c2ce",
   "metadata": {},
   "source": [
    "As alpha particle is very harmful to humans, how thick (cm) of a shield would be needed to safety block all alpha particle decay energy if each 1 centimeter blocks 10,000 MeV? \n",
    "\n",
    "In this section we find a value that is the average + 3 times the standard deviation of alpha energy. From this value we divide it by 10,000 and whatever the output is is how large the shield must be to protect humans from all of the alpha energy."
   ]
  },
  {
   "cell_type": "code",
   "execution_count": 29,
   "id": "db24c230",
   "metadata": {},
   "outputs": [
    {
     "name": "stdout",
     "output_type": "stream",
     "text": [
      "99696.92136420256\n",
      "10\n"
     ]
    }
   ],
   "source": [
    "#part 4\n",
    "length=0\n",
    "shield= avgalpha+(3* sdev)\n",
    "print(shield)\n",
    "shieldpts= arange(0.0,shield,10000)\n",
    "for s in shieldpts:\n",
    "    length+=1\n",
    "    \n",
    "print(length)\n",
    "#This is Correct"
   ]
  },
  {
   "cell_type": "code",
   "execution_count": null,
   "id": "85892c18",
   "metadata": {},
   "outputs": [],
   "source": [
    "# average and standard deviations of the total and individual energies produced with this radioactive decay chain\n",
    "#199300 74649 32 225189\n",
    "#499170\n",
    "\n",
    "#199296 74763 64 225423\n",
    "#499546"
   ]
  }
 ],
 "metadata": {
  "kernelspec": {
   "display_name": "Python 3 (ipykernel)",
   "language": "python",
   "name": "python3"
  },
  "language_info": {
   "codemirror_mode": {
    "name": "ipython",
    "version": 3
   },
   "file_extension": ".py",
   "mimetype": "text/x-python",
   "name": "python",
   "nbconvert_exporter": "python",
   "pygments_lexer": "ipython3",
   "version": "3.9.12"
  }
 },
 "nbformat": 4,
 "nbformat_minor": 5
}
